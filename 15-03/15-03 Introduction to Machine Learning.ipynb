{
 "cells": [
  {
   "cell_type": "markdown",
   "id": "91899593",
   "metadata": {},
   "source": [
    "# Q1)\n",
    "### 1. Aritificial Intelligence is the ability of a machine to think and learn, similar to our human intelligence. An AI applications perform tasks without any human intervention , and performs tasks faster and also better than humans in many cases. \n",
    "### Face lock in smartphones, self driving car like tesla, voice assistance like amazon echo, google home, apple siri, cortana, google translator, chat bots like chatGPT are few examples of AI applications\n",
    "\n",
    "### 2. Machine learning is the subset of AI, which involves a machine to train from the data and to predict without being explicity programmed. \n",
    "### Recommendation system in E-commerce websites, spam filter in gmail, face recogniton, game bots are few examples of ML applications\n",
    "\n",
    "### 3. Deep learning mimics the human brain and learns in the same way a human brain does. It has neural network and weights, analogous to nerves and neurons of human brain. \n",
    "### Most of the applications are result of this deep learning only. Facial recognition, Language Translators which uses NLP, Lane Detection etc all uses Deep learning. "
   ]
  },
  {
   "cell_type": "markdown",
   "id": "554e44cb",
   "metadata": {},
   "source": [
    "# Q2) \n",
    "### Supervised learning is a machine learning technique which uses  labelled data to make predictions. Cat vs Dog, spam vs not spam, house price prediction are few examples of supervised machine learning"
   ]
  },
  {
   "cell_type": "markdown",
   "id": "6830b25a",
   "metadata": {},
   "source": [
    "# Q3) \n",
    "### Unsupervised machine learning uses data which has no lables (or outputs). It identifies the natural relation among the data points and makes groups (or clusters) in the data. Customer segmentation,  Book recommendation by analysing genres are few examples"
   ]
  },
  {
   "cell_type": "markdown",
   "id": "95e318d6",
   "metadata": {},
   "source": [
    "# Q4) \n",
    "### AI is the ability of a machine to think and learn, ML is subset of AI which uses data to make predictions, DL in subset of ML which mimics human brain to learn through neural network and make more accurate predictions than ML does. All the AI, ML, DL tasks require data. Hence data science (DS) is the overlapping set over AI, ML, DL. Data Science is the procedure of collecting raw data, processing it, visualizing and applying statistical tools to make some meaningful insights."
   ]
  },
  {
   "cell_type": "markdown",
   "id": "4b61ec87",
   "metadata": {},
   "source": [
    "# Q5) \n",
    "### Supervised ml uses labelled data, unsupervised ml model doesn't need to have labels to the data.                Semi-Supervised technique involves using both supervised technique and unsupervised technique."
   ]
  },
  {
   "cell_type": "markdown",
   "id": "80b7e661",
   "metadata": {},
   "source": [
    "# Q6) \n",
    "### The part the data used only for training our model is called Train dataset. The remaining portion of the data which we will use to test the model (once the training has done) and which is completely useen to our model to evaluate the model is called Test dataset. \n",
    "### Validation data is used for the hyperparameter tuning. A hyperparameter affects the model speed (time taken to train) and accuracy. An example of hyperparameter is number of clusters in K-nearest neighbours."
   ]
  },
  {
   "cell_type": "markdown",
   "id": "e1be3771",
   "metadata": {},
   "source": [
    "# Q7) \n",
    "### Anamoly detection (or outlier detection) can be done using clustering. By clustering certain groups are formed, each having some data points having some kind of relation. We can identify outliers visually after the clusters were formed.  "
   ]
  },
  {
   "cell_type": "markdown",
   "id": "35b41f43",
   "metadata": {},
   "source": [
    "# Q8)\n",
    "### Linear regression, Decision Trees, Random Forest, SVM are few examples of Supervised learnig algorithms\n",
    "### Apriori algorithm, PCA, Heirarical clustering, KNN are examples of Unsupervised learnig algorithms\n"
   ]
  },
  {
   "cell_type": "code",
   "execution_count": null,
   "id": "6e75f8d3",
   "metadata": {},
   "outputs": [],
   "source": []
  }
 ],
 "metadata": {
  "kernelspec": {
   "display_name": "Python 3 (ipykernel)",
   "language": "python",
   "name": "python3"
  },
  "language_info": {
   "codemirror_mode": {
    "name": "ipython",
    "version": 3
   },
   "file_extension": ".py",
   "mimetype": "text/x-python",
   "name": "python",
   "nbconvert_exporter": "python",
   "pygments_lexer": "ipython3",
   "version": "3.8.1"
  }
 },
 "nbformat": 4,
 "nbformat_minor": 5
}
