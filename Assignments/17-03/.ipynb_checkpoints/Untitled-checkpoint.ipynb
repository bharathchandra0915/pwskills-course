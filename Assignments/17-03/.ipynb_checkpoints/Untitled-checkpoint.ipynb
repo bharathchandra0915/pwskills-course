{
 "cells": [
  {
   "cell_type": "markdown",
   "id": "d7c3dfd5",
   "metadata": {},
   "source": [
    "## 1. The absence of the data are termed as missing values.  If missing values are not handled properly, they may lead to unreliable or biased model.  Decision trees, random forest techniques splits the missing values into an another category. They work by taking available data into consideration without imputing or deleting the missing values.  Other algorithms not affected by missing values are K-Nearest Neighbours, SVM, Gaussian Mixture Model,"
   ]
  },
  {
   "cell_type": "markdown",
   "id": "8503c337",
   "metadata": {},
   "source": [
    "## 2. The missing data can be handled by:\n",
    "### i) Imputation technique\n",
    "- **Mean imputation** :Replace the missing data with the mean of the existing values\n",
    "- **Mode imputation** :Replace the missing data with the mode of the existing values\n",
    "- **Median imputation**: Replace the missing data with the median of the existing values\n",
    "\n",
    "### ii) Removing missing values\n",
    "- **Removing missing values** isn't a reliable approach since it leads to data loss\n",
    "\n",
    "\n"
   ]
  },
  {
   "cell_type": "code",
   "execution_count": 1,
   "id": "581e46b9",
   "metadata": {},
   "outputs": [],
   "source": [
    "import pandas as  pd\n",
    "df = pd.read_csv('ti')"
   ]
  },
  {
   "cell_type": "code",
   "execution_count": null,
   "id": "505590d6",
   "metadata": {},
   "outputs": [],
   "source": []
  }
 ],
 "metadata": {
  "kernelspec": {
   "display_name": "Python 3 (ipykernel)",
   "language": "python",
   "name": "python3"
  },
  "language_info": {
   "codemirror_mode": {
    "name": "ipython",
    "version": 3
   },
   "file_extension": ".py",
   "mimetype": "text/x-python",
   "name": "python",
   "nbconvert_exporter": "python",
   "pygments_lexer": "ipython3",
   "version": "3.8.1"
  }
 },
 "nbformat": 4,
 "nbformat_minor": 5
}
